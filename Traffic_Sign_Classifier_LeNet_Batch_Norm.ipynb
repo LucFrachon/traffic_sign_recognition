{
 "cells": [
  {
   "cell_type": "markdown",
   "metadata": {},
   "source": [
    "# Self-Driving Car Engineer Nanodegree\n",
    "\n",
    "## Deep Learning\n",
    "\n",
    "## Project: Build a Traffic Sign Recognition Classifier\n",
    "\n",
    "In this notebook, a template is provided for you to implement your functionality in stages, which is required to successfully complete this project. If additional code is required that cannot be included in the notebook, be sure that the Python code is successfully imported and included in your submission if necessary. \n",
    "\n",
    "> **Note**: Once you have completed all of the code implementations, you need to finalize your work by exporting the iPython Notebook as an HTML document. Before exporting the notebook to html, all of the code cells need to have been run so that reviewers can see the final implementation and output. You can then export the notebook by using the menu above and navigating to  \\n\",\n",
    "    \"**File -> Download as -> HTML (.html)**. Include the finished document along with this notebook as your submission. \n",
    "\n",
    "In addition to implementing code, there is a writeup to complete. The writeup should be completed in a separate file, which can be either a markdown file or a pdf document. There is a [write up template](https://github.com/udacity/CarND-Traffic-Sign-Classifier-Project/blob/master/writeup_template.md) that can be used to guide the writing process. Completing the code template and writeup template will cover all of the [rubric points](https://review.udacity.com/#!/rubrics/481/view) for this project.\n",
    "\n",
    "The [rubric](https://review.udacity.com/#!/rubrics/481/view) contains \"Stand Out Suggestions\" for enhancing the project beyond the minimum requirements. The stand out suggestions are optional. If you decide to pursue the \"stand out suggestions\", you can include the code in this Ipython notebook and also discuss the results in the writeup file.\n",
    "\n",
    "\n",
    ">**Note:** Code and Markdown cells can be executed using the **Shift + Enter** keyboard shortcut. In addition, Markdown cells can be edited by typically double-clicking the cell to enter edit mode."
   ]
  },
  {
   "cell_type": "markdown",
   "metadata": {},
   "source": [
    "---\n",
    "## Step 0: Load The Data"
   ]
  },
  {
   "cell_type": "code",
   "execution_count": 1,
   "metadata": {
    "collapsed": false
   },
   "outputs": [],
   "source": [
    "# Load pickled data\n",
    "import pickle\n",
    "import numpy as np\n",
    "import pandas as pd\n",
    "import matplotlib.pyplot as plt\n",
    "import cv2\n",
    "%matplotlib inline\n",
    "\n",
    "np.random.seed(2606)\n",
    "\n",
    "# TODO: Fill this in based on where you saved the training and testing data\n",
    "\n",
    "training_file = './data/train.p'\n",
    "validation_file= './data/valid.p'\n",
    "testing_file = './data/test.p'\n",
    "\n",
    "with open(training_file, mode='rb') as f:\n",
    "    train = pickle.load(f)\n",
    "with open(validation_file, mode='rb') as f:\n",
    "    valid = pickle.load(f)\n",
    "with open(testing_file, mode='rb') as f:\n",
    "    test = pickle.load(f)\n",
    "\n",
    "def build_datasets(train, valid, test):\n",
    "    '''\n",
    "    Convenience function to build or rebuild all 3 datasets from orignal pickles.\n",
    "    '''\n",
    "    X_train, y_train = np.array(train['features']), np.array(train['labels'])\n",
    "    X_valid, y_valid = np.array(valid['features']), np.array(valid['labels'])\n",
    "    X_test, y_test = np.array(test['features']), np.array(test['labels'])\n",
    "    return X_train, y_train, X_valid, y_valid, X_test, y_test\n",
    "\n",
    "X_train, y_train, X_valid, y_valid, X_test, y_test = build_datasets(train, valid, test)"
   ]
  },
  {
   "cell_type": "markdown",
   "metadata": {},
   "source": [
    "# Step 1: Generate additional data"
   ]
  },
  {
   "cell_type": "code",
   "execution_count": 2,
   "metadata": {
    "collapsed": false
   },
   "outputs": [
    {
     "data": {
      "text/plain": [
       "<matplotlib.image.AxesImage at 0x7fe62d386d30>"
      ]
     },
     "execution_count": 2,
     "metadata": {},
     "output_type": "execute_result"
    },
    {
     "data": {
      "image/png": "[encoded data removed]",
      "text/plain": [
       "<matplotlib.figure.Figure at 0x7fe670667470>"
      ]
     },
     "metadata": {},
     "output_type": "display_data"
    }
   ],
   "source": [
    "plt.figure(figsize = (4, 4))\n",
    "plt.imshow(X_train[6768])"
   ]
  },
  {
   "cell_type": "code",
   "execution_count": 3,
   "metadata": {
    "collapsed": false
   },
   "outputs": [],
   "source": [
    "import copy\n",
    "\n",
    "VARIATIONS = 4  # Number of fake images to generate for each real one\n",
    "\n",
    "def jitter_image(x):\n",
    "    '''\n",
    "    Takes an image and returns a jittered version of it by applying random\n",
    "    scaling, translation and rotation.\n",
    "    \n",
    "    x: an image array\n",
    "    \n",
    "    '''\n",
    "        \n",
    "    # Scale by a random factor between .85 and 1.15\n",
    "    scaling_x = 0.3 * np.random.sample() + 0.85\n",
    "    scaling_y = 0.3 * np.random.sample() + 0.85 \n",
    "    img = cv2.resize(x, dsize = (0, 0), fx = scaling_x, fy = scaling_y)\n",
    "    \n",
    "    # Restore original array size by adding padding\n",
    "    s_y, s_x = x[:,:,0].shape  # Get new shape after resizing\n",
    "    y_padding = round(32 - s_y)\n",
    "    x_padding = round(32 - s_x)\n",
    "    x = cv2.copyMakeBorder(x, y_padding, y_padding, x_padding, x_padding, \n",
    "                             cv2.BORDER_WRAP)\n",
    "     \n",
    "    # Translate by a random number of pixels between -2 and +2\n",
    "    trans_x = 4. * np.random.sample() - 2\n",
    "    trans_y = 4. * np.random.sample() - 2\n",
    "    M_trans = np.float32([[1, 0, trans_x], [0, 1, trans_y]])  # Define translation matrix\n",
    "    x = cv2.warpAffine(x, M = M_trans, dsize = (32, 32),  # Apply translation\n",
    "                       borderMode = cv2.BORDER_WRAP)\n",
    "    \n",
    "    # Rotate by a random angle between -10 and +10 degrees\n",
    "    rot_deg = 20 * np.random.sample() - 10\n",
    "    M_rot = cv2.getRotationMatrix2D((round(s_x / 2), round(s_y / 2)), rot_deg, 1) # Define rot. matrix\n",
    "    x = cv2.warpAffine(x, M = M_rot, dsize = (s_x, s_y),  # Apply rotation\n",
    "                       borderMode = cv2.BORDER_WRAP)    \n",
    "\n",
    "    return x\n",
    "\n",
    "\n",
    "def adjust_channels(x):\n",
    "    '''\n",
    "    Takes an image and applies a different adjustment to each channel \n",
    "    sampled from the interval [.95, 1.05]. Returns the modified image.\n",
    "    \n",
    "    x: an image array\n",
    "    '''\n",
    "    for chan in range(x.shape[2]):\n",
    "        adj_coeff = 1. + np.random.randn() * 0.05\n",
    "        lower = np.zeros_like(x[:,:, chan])\n",
    "        upper = np.zeros_like(x[:,:, chan]) + 255\n",
    "        x[:,:, chan] = np.maximum(lower, x[:,:, chan] * adj_coeff)\n",
    "        x[:,:, chan] = np.minimum(x[:,:, chan], upper)\n",
    "    return x\n",
    "\n",
    "\n",
    "def create_images(x, y):\n",
    "    '''\n",
    "    Takes a single image as input and produces 5 variations with random\n",
    "    jittering and channel adjustments.\n",
    "    \n",
    "    x: Single image (a 3-dimensional np.ndarray))\n",
    "    variations: How many jittered / colour-adjusted copies of the original\n",
    "                image to return?\n",
    "            \n",
    "    Returns: An 4d-array of stacked images such that x_out.shape[0] == variations\n",
    "    '''\n",
    "    x_out = np.array([adjust_channels(jitter_image(x)) for img in range(VARIATIONS)])\n",
    "    y_out = np.array([y for img in range(VARIATIONS)])  # Don't change y but replicate each value\n",
    "    return x_out, y_out\n",
    "\n",
    "\n",
    "# Apply this process to all images in the training set:\n",
    "X_train_fake = np.concatenate([fake_x for fake_x in map(lambda x, y: create_images(x, y)[0], \n",
    "                                                        X_train, y_train)], 0)\n",
    "y_train_fake = np.concatenate([fake_x for fake_x in map(lambda x, y: create_images(x, y)[1], \n",
    "                                                        X_train, y_train)], 0)\n",
    "\n",
    "# Concatenate to existing training set\n",
    "X_train = np.concatenate((X_train, X_train_fake), 0)\n",
    "y_train = np.concatenate((y_train, y_train_fake), 0)"
   ]
  },
  {
   "cell_type": "code",
   "execution_count": 4,
   "metadata": {
    "collapsed": false
   },
   "outputs": [],
   "source": [
    "with open('./data/x_train_with_fakes.p', mode = 'wb') as f:\n",
    "    pickle.dump(X_train, f)\n",
    "with open('./data/y_train_with_fakes.p', mode = 'wb') as f:\n",
    "    pickle.dump(y_train, f)\n",
    "with open('./data/x_valid.p', mode= 'wb') as f:\n",
    "    pickle.dump(X_valid, f)\n",
    "with open('./data/y_valid.p', mode= 'wb') as f:\n",
    "    pickle.dump(y_valid, f)\n",
    "with open('./data/x_test.p', mode= 'wb') as f:\n",
    "    pickle.dump(X_test, f)\n",
    "with open('./data/y_test.p', mode= 'wb') as f:\n",
    "    pickle.dump(y_test, f)\n"
   ]
  },
  {
   "cell_type": "markdown",
   "metadata": {},
   "source": [
    "---\n",
    "\n",
    "## Step 1: Dataset Summary & Exploration\n",
    "\n",
    "The pickled data is a dictionary with 4 key/value pairs:\n",
    "\n",
    "- `'features'` is a 4D array containing raw pixel data of the traffic sign images, (num examples, width, height, channels).\n",
    "- `'labels'` is a 1D array containing the label/class id of the traffic sign. The file `signnames.csv` contains id -> name mappings for each id.\n",
    "- `'sizes'` is a list containing tuples, (width, height) representing the the original width and height the image.\n",
    "- `'coords'` is a list containing tuples, (x1, y1, x2, y2) representing coordinates of a bounding box around the sign in the image. **THESE COORDINATES ASSUME THE ORIGINAL IMAGE. THE PICKLED DATA CONTAINS RESIZED VERSIONS (32 by 32) OF THESE IMAGES**\n",
    "\n",
    "Complete the basic data summary below. Use python, numpy and/or pandas methods to calculate the data summary rather than hard coding the results. For example, the [pandas shape method](http://pandas.pydata.org/pandas-docs/stable/generated/pandas.DataFrame.shape.html) might be useful for calculating some of the summary results. "
   ]
  },
  {
   "cell_type": "markdown",
   "metadata": {},
   "source": [
    "### Provide a Basic Summary of the Data Set Using Python, Numpy and/or Pandas"
   ]
  },
  {
   "cell_type": "code",
   "execution_count": 5,
   "metadata": {
    "collapsed": false
   },
   "outputs": [
    {
     "name": "stdout",
     "output_type": "stream",
     "text": [
      "Number of training examples = 173995\n",
      "Number of validation examples = 4410\n",
      "Number of testing examples = 12630\n",
      "Image data shape = (32, 32)\n",
      "Number of classes = 43\n"
     ]
    }
   ],
   "source": [
    "### Replace each question mark with the appropriate value. \n",
    "### Use python, pandas or numpy methods rather than hard coding the results\n",
    "\n",
    "# TODO: Number of training examples\n",
    "n_train = X_train.shape[0]\n",
    "\n",
    "# Number of validation examples:\n",
    "n_valid = X_valid.shape[0]\n",
    "\n",
    "# TODO: Number of testing examples.\n",
    "n_test = X_test.shape[0]\n",
    "\n",
    "# TODO: What's the shape of an traffic sign image?\n",
    "image_shape = X_train[np.random.randint(0, n_train)].shape[:2]  # Select a random image\n",
    "\n",
    "# TODO: How many unique classes/labels there are in the dataset.\n",
    "n_classes = len(np.unique(y_train))\n",
    "\n",
    "print(\"Number of training examples =\", n_train)\n",
    "print(\"Number of validation examples =\", n_valid)\n",
    "print(\"Number of testing examples =\", n_test)\n",
    "print(\"Image data shape =\", image_shape)\n",
    "print(\"Number of classes =\", n_classes)"
   ]
  },
  {
   "cell_type": "markdown",
   "metadata": {},
   "source": [
    "### Include an exploratory visualization of the dataset"
   ]
  },
  {
   "cell_type": "markdown",
   "metadata": {},
   "source": [
    "Visualize the German Traffic Signs Dataset using the pickled file(s). This is open ended, suggestions include: plotting traffic sign images, plotting the count of each sign, etc.\n",
    "\n",
    "The [Matplotlib](http://matplotlib.org/) [examples](http://matplotlib.org/examples/index.html) and [gallery](http://matplotlib.org/gallery.html) pages are a great resource for doing visualizations in Python.\n",
    "\n",
    "**NOTE:** It's recommended you start with something simple first. If you wish to do more, come back to it after you've completed the rest of the sections."
   ]
  },
  {
   "cell_type": "code",
   "execution_count": 6,
   "metadata": {
    "collapsed": false
   },
   "outputs": [],
   "source": [
    "### Data exploration visualization code goes here.\n",
    "### Feel free to use as many code cells as needed.\n",
    "import matplotlib.pyplot as plt\n",
    "# Visualizations will be shown in the notebook.\n",
    "%matplotlib inline"
   ]
  },
  {
   "cell_type": "markdown",
   "metadata": {},
   "source": [
    " * **First, look at a few random images from the training set:**\n",
    " \n",
    " Note that these images are from the original data (no jittering or colour adjustment)."
   ]
  },
  {
   "cell_type": "code",
   "execution_count": 7,
   "metadata": {
    "collapsed": false
   },
   "outputs": [
    {
     "data": {
      "image/png": "[encoded data removed]",
      "text/plain": [
       "<matplotlib.figure.Figure at 0x7fe62d3ca7b8>"
      ]
     },
     "metadata": {},
     "output_type": "display_data"
    }
   ],
   "source": [
    "rand_images = np.random.randint(0, n_train / 5, size = 8)\n",
    "fig, axes = plt.subplots(nrows = 2, ncols = 4, figsize = (12, 6),\n",
    "                        subplot_kw = {'xticks': [], 'yticks': []})\n",
    "\n",
    "for i, ax in enumerate(axes.flat):\n",
    "    ax.imshow(train['features'][rand_images[i]])"
   ]
  },
  {
   "cell_type": "markdown",
   "metadata": {},
   "source": [
    "It seems that some of the signs, especially those with digits on them, might be challenging due to the low image resolution and lighting conditions."
   ]
  },
  {
   "cell_type": "markdown",
   "metadata": {},
   "source": [
    "* **Count of each sign:**"
   ]
  },
  {
   "cell_type": "code",
   "execution_count": 8,
   "metadata": {
    "collapsed": false
   },
   "outputs": [
    {
     "data": {
      "image/png": "[encoded data removed]",
      "text/plain": [
       "<matplotlib.figure.Figure at 0x7fe62d06eb38>"
      ]
     },
     "metadata": {},
     "output_type": "display_data"
    }
   ],
   "source": [
    "# First import the sign id mapping and make a data frame for the training set:\n",
    "sign_labels = pd.DataFrame(train['labels'], columns = ['labels'])\n",
    "sign_names = pd.read_csv('signnames.csv', index_col = 'ClassId')\n",
    "signs_train = pd.DataFrame(train['features'][:, 0, 0, 0], \n",
    "                           columns = ['num_example'])\n",
    "signs_train = pd.concat([signs_train, sign_labels], axis = 1)\n",
    "signs_train = signs_train.join(sign_names, on = 'labels')\n",
    "\n",
    "signs_train_grp = signs_train.groupby(['labels', 'SignName'], \n",
    "                                      as_index = False).count().sort_values('num_example', \n",
    "                                                                            ascending = True)\n",
    "\n",
    "plt.figure(figsize = (12, 8))    \n",
    "plt.barh(signs_train_grp['labels'], signs_train_grp['num_example'], color = 'lightblue')\n",
    "plt.xlabel('Count')\n",
    "plt.ylabel('Sign')\n",
    "plt.yticks(signs_train_grp['labels'], signs_train_grp['SignName'])\n",
    "plt.grid(True)\n",
    "plt.show()\n"
   ]
  },
  {
   "cell_type": "markdown",
   "metadata": {},
   "source": [
    "Unfortunately the signs that we believe might be the harder to predict correctly (speed limit signs) are also the rarest in the dataset."
   ]
  },
  {
   "cell_type": "markdown",
   "metadata": {},
   "source": [
    "----\n",
    "\n",
    "## Step 2: Design and Test a Model Architecture\n",
    "\n",
    "Design and implement a deep learning model that learns to recognize traffic signs. Train and test your model on the [German Traffic Sign Dataset](http://benchmark.ini.rub.de/?section=gtsrb&subsection=dataset).\n",
    "\n",
    "There are various aspects to consider when thinking about this problem:\n",
    "\n",
    "- Neural network architecture\n",
    "- Play around preprocessing techniques (normalization, rgb to grayscale, etc)\n",
    "- Number of examples per label (some have more than others).\n",
    "- Generate fake data.\n",
    "\n",
    "Here is an example of a [published baseline model on this problem](http://yann.lecun.com/exdb/publis/pdf/sermanet-ijcnn-11.pdf). It's not required to be familiar with the approach used in the paper but, it's good practice to try to read papers like these.\n",
    "\n",
    "**NOTE:** The LeNet-5 implementation shown in the [classroom](https://classroom.udacity.com/nanodegrees/nd013/parts/fbf77062-5703-404e-b60c-95b78b2f3f9e/modules/6df7ae49-c61c-4bb2-a23e-6527e69209ec/lessons/601ae704-1035-4287-8b11-e2c2716217ad/concepts/d4aca031-508f-4e0b-b493-e7b706120f81) at the end of the CNN lesson is a solid starting point. You'll have to change the number of classes and possibly the preprocessing, but aside from that it's plug and play!"
   ]
  },
  {
   "cell_type": "markdown",
   "metadata": {},
   "source": [
    "### Pre-process the Data Set (normalization, grayscale, etc.)"
   ]
  },
  {
   "cell_type": "markdown",
   "metadata": {},
   "source": [
    "Use the code cell (or multiple code cells, if necessary) to implement the first step of your project."
   ]
  },
  {
   "cell_type": "code",
   "execution_count": 9,
   "metadata": {
    "collapsed": false
   },
   "outputs": [],
   "source": [
    "### Preprocess the data here. Preprocessing steps could include normalization, converting to grayscale, etc.\n",
    "### Feel free to use as many code cells as needed.\n",
    "\n",
    "from sklearn.utils import shuffle\n",
    "import cv2\n",
    "import tensorflow as tf\n",
    "from copy import copy\n"
   ]
  },
  {
   "cell_type": "code",
   "execution_count": 10,
   "metadata": {
    "collapsed": false
   },
   "outputs": [],
   "source": [
    "# Conversions to different colour maps\n",
    "\n",
    "def convert_to_grey(x):\n",
    "    '''\n",
    "    Converts a collection of images (stored as a single np.ndarray, axis 0 denoting the\n",
    "    index within the collection) to greyscale.\n",
    "    Returns a collection of 1-channel images of same dimensions.\n",
    "    \n",
    "    x: a 3-channel array\n",
    "    '''\n",
    "    x_out = np.zeros((x.shape[0], x.shape[1], x.shape[2], 1))\n",
    "    for i in range(x_out.shape[0]):\n",
    "        x_out[i, : , : , 0] = cv2.cvtColor(x[i, : , : , :], cv2.COLOR_RGB2GRAY)\n",
    "    return x_out\n",
    "\n",
    "def convert_to_hls_drop_2(x):\n",
    "    '''\n",
    "    Converts a collection of images (stored as a single np.ndarray, axis 0 denoting the\n",
    "    index within the collection) to HLS and drops the H and S channels.\n",
    "    Returns a collection of 1-channel image of same dimensions.\n",
    "    \n",
    "    x: a 3-channel array\n",
    "    '''\n",
    "    x_out = np.zeros((x.shape[0], x.shape[1], x.shape[2], 1))\n",
    "    for i in range(x_out.shape[0]):\n",
    "        x_out[i, : , : , 0] = cv2.cvtColor(x[i, : , : , :], cv2.COLOR_RGB2HLS)[: , :, 1]\n",
    "    return x_out\n",
    "\n",
    "def convert_to_colorspace_3(x, code):\n",
    "    '''\n",
    "    Converts a collection of images (stored as a single np.ndarray, axis 0 denoting the\n",
    "    index within the collection) to another 3-channel colourspace.\n",
    "    Returns a collection of 3-channel image of same dimensions.\n",
    "    \n",
    "    x: a 3-channel array\n",
    "    '''\n",
    "    x_out = np.zeros_like(x)\n",
    "    for i in range(x_out.shape[0]):\n",
    "        x_out[i] = cv2.cvtColor(x[i], code)\n",
    "    return x_out\n",
    "\n",
    "#X_train = convert_to_grey(X_train)\n",
    "#X_valid = convert_to_grey(X_valid)\n",
    "#X_test = convert_to_grey(X_test)\n",
    "#X_train = convert_to_hls_drop_2(X_train)\n",
    "#X_valid = convert_to_hls_drop_2(X_valid)\n",
    "#X_test = convert_to_hls_drop_2(X_test)\n",
    "#X_train = convert_to_colorspace_3(X_train, cv2.COLOR_RGB2YCrCb)\n",
    "#X_valid = convert_to_colorspace_3(X_valid, cv2.COLOR_RGB2YCrCb)\n",
    "#X_test = convert_to_colorspace_3(X_test, cv2.COLOR_RGB2YCrCb)"
   ]
  },
  {
   "cell_type": "code",
   "execution_count": 11,
   "metadata": {
    "collapsed": false,
    "scrolled": true
   },
   "outputs": [
    {
     "data": {
      "text/plain": [
       "<matplotlib.image.AxesImage at 0x7fe5dc105438>"
      ]
     },
     "execution_count": 11,
     "metadata": {},
     "output_type": "execute_result"
    },
    {
     "data": {
      "image/png": "[encoded data removed]",
      "text/plain": [
       "<matplotlib.figure.Figure at 0x7fe5dc150c88>"
      ]
     },
     "metadata": {},
     "output_type": "display_data"
    }
   ],
   "source": [
    "plt.imshow(X_train[546])  # Display an image"
   ]
  },
  {
   "cell_type": "code",
   "execution_count": null,
   "metadata": {
    "collapsed": false
   },
   "outputs": [],
   "source": [
    "with open('./data/x_train_with_fakes.p', mode = 'rb') as f:\n",
    "    X_train = pickle.load(f)\n",
    "with open('./data/y_train_with_fakes.p', mode = 'rb') as f:\n",
    "    y_train = pickle.load(f)\n",
    "with open('./data/x_valid.p', mode= 'rb') as f:\n",
    "    X_valid = pickle.load(f)\n",
    "with open('./data/y_valid.p', mode= 'rb') as f:\n",
    "    y_valid = pickle.load(f)\n",
    "with open('./data/x_test.p', mode= 'rb') as f:\n",
    "    X_test = pickle.load(f)\n",
    "with open('./data/y_test.p', mode= 'rb') as f:\n",
    "    y_test = pickle.load(f)"
   ]
  },
  {
   "cell_type": "code",
   "execution_count": 12,
   "metadata": {
    "collapsed": false
   },
   "outputs": [],
   "source": [
    "# Normalisation:\n",
    "\n",
    "def normalize_per_image(x):\n",
    "    channels = x.shape[3]\n",
    "    x_out = np.zeros_like(x, dtype = np.float32)\n",
    "    for index, img in enumerate(x):\n",
    "        x_out[index] = cv2.normalize(img, x_out[index], alpha = -1, beta = 1, \n",
    "                      norm_type = cv2.NORM_MINMAX, dtype = cv2.CV_32F)\n",
    "    return x_out\n",
    "\n",
    "def center_global(x):\n",
    "    x_out = np.zeros_like(x, dtype = np.float64)\n",
    "    mean_img = np.mean(x, axis = 0, dtype = np.float64, keepdims = True)\n",
    "    x_out = x - mean_img\n",
    "    \n",
    "    return x_out\n",
    "\n",
    "def center_per_channel(x):\n",
    "    x_out = np.zeros_like(x, dtype = np.float64)\n",
    "    \n",
    "    for c in range(x.shape[3]):  # Apply zero centering by channel\n",
    "        x_out[:,:,:,c] = x[:,:,:,c] - np.mean(x[:,:,:,c], dtype = np.float64, keepdims = True)\n",
    "    \n",
    "    return x_out\n",
    "\n",
    "X_train = normalize_per_image(X_train)\n",
    "X_valid = normalize_per_image(X_valid)\n",
    "X_test = normalize_per_image(X_test)"
   ]
  },
  {
   "cell_type": "code",
   "execution_count": 13,
   "metadata": {
    "collapsed": false,
    "scrolled": true
   },
   "outputs": [
    {
     "data": {
      "text/plain": [
       "<matplotlib.image.AxesImage at 0x7fe5dc0e0518>"
      ]
     },
     "execution_count": 13,
     "metadata": {},
     "output_type": "execute_result"
    },
    {
     "data": {
      "image/png": "[encoded data removed]",
      "text/plain": [
       "<matplotlib.figure.Figure at 0x7fe5dc0aa390>"
      ]
     },
     "metadata": {},
     "output_type": "display_data"
    }
   ],
   "source": [
    "plt.imshow(X_train[651,:,:,:])"
   ]
  },
  {
   "cell_type": "markdown",
   "metadata": {},
   "source": [
    "### Model Architecture"
   ]
  },
  {
   "cell_type": "code",
   "execution_count": 14,
   "metadata": {
    "collapsed": true
   },
   "outputs": [],
   "source": [
    "from tensorflow.contrib.layers import flatten\n",
    "\n",
    "# ConvNet filter and stride sizes:\n",
    "cv1_fsize, cv1_stride = 5, 1\n",
    "pl1_ksize, pl1_stride = 2, 2\n",
    "cv2_fsize, cv2_stride = 5, 1\n",
    "pl2_ksize, pl2_stride = 2, 2\n",
    "    \n",
    "\n",
    "def LeNet(x, keep_prob, n_channels = 1):    \n",
    "    '''\n",
    "    Defines the ConvNet's architecture.\n",
    "    '''\n",
    "    # Arguments used for tf.truncated_normal, randomly defines variables for the weights and biases for each layer\n",
    "    mu = 0\n",
    "    sigma = 0.1\n",
    "    epsilon = 1.e-3\n",
    "\n",
    "    # Define weight variables:\n",
    "    weights = {\n",
    "        'cv1_w': tf.Variable(tf.truncated_normal([cv1_fsize, cv1_fsize, n_channels, 6], mu, sigma)),\n",
    "        'bn1_a': tf.Variable(tf.ones([6])),\n",
    "        'cv2_w': tf.Variable(tf.truncated_normal([cv2_fsize, cv2_fsize, 6, 16], mu, sigma)),\n",
    "        'bn2_a': tf.Variable(tf.ones([16])),\n",
    "        'fc3_w': tf.Variable(tf.truncated_normal([400, 120], mu, sigma)),\n",
    "        'fc4_w': tf.Variable(tf.truncated_normal([120, 84], mu, sigma)),\n",
    "        'fc5_w': tf.Variable(tf.truncated_normal([84, 43], mu, sigma))\n",
    "    }\n",
    "    biases = {\n",
    "        'cv1_b': tf.Variable(tf.truncated_normal([6])),\n",
    "        'bn1_b': tf.Variable(tf.zeros([6])),\n",
    "        'cv2_b': tf.Variable(tf.truncated_normal([16])),\n",
    "        'bn2_b': tf.Variable(tf.zeros([16])),\n",
    "        'fc3_b': tf.Variable(tf.truncated_normal([120], mu, sigma)),\n",
    "        'fc4_b': tf.Variable(tf.truncated_normal([84], mu, sigma)),\n",
    "        'fc5_b': tf.Variable(tf.truncated_normal([43], mu, sigma))\n",
    "    }\n",
    "        \n",
    "    # Layer 1: Convolutional. Input = 32x32x3. Output = 28x28x6.\n",
    "    cv1 = tf.nn.conv2d(x, weights['cv1_w'], strides = [1, cv1_stride, cv1_stride, 1], \n",
    "                       padding = 'VALID')  # No need for bias with batch normalization\n",
    "    # Batch normalization\n",
    "    bn_mean1, bn_var1 = tf.nn.moments(cv1, axes = [0])\n",
    "    bn1 = tf.nn.batch_normalization(cv1, bn_mean1, bn_var1, biases['bn1_b'], weights['bn1_a'],\n",
    "                                   epsilon)\n",
    "    # Activation.\n",
    "    ac1 = tf.nn.relu(bn1)\n",
    "\n",
    "    # Pooling. Input = 28x28x6. Output = 14x14x6.\n",
    "    pl1 = tf.nn.max_pool(ac1, ksize = [1, pl1_ksize, pl1_ksize, 1], \n",
    "                         strides = [1, pl1_stride, pl1_stride, 1], padding = 'VALID')\n",
    "    \n",
    "    # Layer 2: Convolutional. Output = 10x10x16.\n",
    "    cv2 = tf.nn.conv2d(pl1, weights['cv2_w'], strides = [1, cv2_stride, cv2_stride, 1],\n",
    "                       padding = 'VALID')\n",
    "    \n",
    "    # Batch normalization\n",
    "    bn_mean2, bn_var2 = tf.nn.moments(cv2, axes = [0])\n",
    "    bn2 = tf.nn.batch_normalization(cv2, bn_mean2, bn_var2, biases['bn2_b'], weights['bn2_a'],\n",
    "                                   epsilon)\n",
    "    \n",
    "    # Activation.\n",
    "    ac2 = tf.nn.relu(bn2)\n",
    "    \n",
    "    # Pooling. Input = 10x10x16. Output = 5x5x16.\n",
    "    pl2 = tf.nn.max_pool(ac2, ksize = [1, pl2_ksize, pl2_ksize, 1],\n",
    "                         strides= [1, pl2_stride, pl2_stride, 1], padding = 'VALID')\n",
    "    \n",
    "    # Flatten. Input = 5x5x16. Output = 400.\n",
    "    flat = tf.contrib.layers.flatten(pl2)\n",
    "    \n",
    "    # Layer 3: Fully Connected. Input = 400. Output = 120.\n",
    "    fc3 = tf.add(tf.matmul(flat, weights['fc3_w']), biases['fc3_b'])\n",
    "    \n",
    "    # Activation.\n",
    "    ac3 = tf.nn.relu(fc3)\n",
    "    \n",
    "    # Layer 4: Fully Connected. Input = 120. Output = 84.\n",
    "    fc4 = tf.add(tf.matmul(ac3, weights['fc4_w']), biases['fc4_b'])\n",
    "    \n",
    "    # Activation.\n",
    "    ac4 = tf.nn.relu(fc4)\n",
    "    \n",
    "    # Dropout:\n",
    "    do4 = tf.nn.dropout(ac4, keep_prob)\n",
    "\n",
    "    # Layer 5: Fully Connected. Input = 84. Output = 10.\n",
    "    logits = tf.add(tf.matmul(do4, weights['fc5_w']), biases['fc5_b'])\n",
    "    \n",
    "    return logits"
   ]
  },
  {
   "cell_type": "markdown",
   "metadata": {},
   "source": [
    "### Train, Validate and Test the Model"
   ]
  },
  {
   "cell_type": "markdown",
   "metadata": {},
   "source": [
    "A validation set can be used to assess how well the model is performing. A low accuracy on the training and validation\n",
    "sets imply underfitting. A high accuracy on the test set but low accuracy on the validation set implies overfitting."
   ]
  },
  {
   "cell_type": "code",
   "execution_count": null,
   "metadata": {
    "collapsed": false,
    "scrolled": true
   },
   "outputs": [],
   "source": [
    "### Train your model here.\n",
    "### Calculate and report the accuracy on the training and validation set.\n",
    "### Once a final model architecture is selected, \n",
    "### the accuracy on the test set should be calculated and reported as well.\n",
    "### Feel free to use as many code cells as needed.\n",
    "\n",
    "# Number of channels:\n",
    "chan = X_train.shape[3]\n",
    "print(\"Each image has {} channel(s)\".format(chan))\n",
    "# Meta-parameters:\n",
    "EPOCHS = 200\n",
    "BATCH_SIZE = 128\n",
    "rate = 0.001\n",
    "TARGET = 0.97\n",
    "\n",
    "x = tf.placeholder(tf.float32, (None, 32, 32, chan))\n",
    "y = tf.placeholder(tf.int32, (None))\n",
    "keep_prob = tf.placeholder(tf.float32)\n",
    "one_hot_y = tf.one_hot(y, 43)\n",
    "\n",
    "logits = LeNet(x, keep_prob, chan)\n",
    "cross_entropy = tf.nn.softmax_cross_entropy_with_logits(logits, one_hot_y)\n",
    "loss_operation = tf.reduce_mean(cross_entropy)\n",
    "optimizer = tf.train.AdamOptimizer(learning_rate = rate)\n",
    "training_operation = optimizer.minimize(loss_operation)\n",
    "\n",
    "correct_prediction = tf.equal(tf.argmax(logits, 1), tf.argmax(one_hot_y, 1))\n",
    "accuracy_operation = tf.reduce_mean(tf.cast(correct_prediction, tf.float32))\n",
    "saver = tf.train.Saver()\n",
    "\n",
    "def evaluate(X_data, y_data):\n",
    "    num_examples = len(X_data)\n",
    "    total_accuracy = 0\n",
    "    sess = tf.get_default_session()\n",
    "    for offset in range(0, num_examples, BATCH_SIZE):\n",
    "        batch_x, batch_y = X_data[offset:offset+BATCH_SIZE], y_data[offset:offset+BATCH_SIZE]\n",
    "        accuracy = sess.run(accuracy_operation, feed_dict={x: batch_x, y: batch_y, keep_prob: 1.0})\n",
    "        total_accuracy += (accuracy * len(batch_x))\n",
    "    return total_accuracy / num_examples\n",
    "\n",
    "\n",
    "with tf.Session() as sess:\n",
    "    sess.run(tf.global_variables_initializer())\n",
    "    num_examples = len(X_train)\n",
    "    \n",
    "    train_accuracies = []\n",
    "    valid_accuracies = []\n",
    "    \n",
    "    print(\"Training...\")\n",
    "    print()\n",
    "    i = 0\n",
    "    \n",
    "    while True:\n",
    "        X_train, y_train = shuffle(X_train, y_train)\n",
    "        for offset in range(0, num_examples, BATCH_SIZE):\n",
    "            end = offset + BATCH_SIZE\n",
    "            batch_x, batch_y = X_train[offset:end], y_train[offset:end]\n",
    "            sess.run(training_operation, feed_dict={x: batch_x, y: batch_y, keep_prob: 0.4})\n",
    "        \n",
    "        training_accuracy = evaluate(X_train, y_train)    \n",
    "        validation_accuracy = evaluate(X_valid, y_valid)\n",
    "        \n",
    "        train_accuracies.append(training_accuracy)\n",
    "        valid_accuracies.append(validation_accuracy)\n",
    "        \n",
    "        print(\"EPOCH {} ...\".format(i+1))\n",
    "        print(\"Training Accuracy = {:.3f}\".format(training_accuracy))\n",
    "        print(\"Validation Accuracy = {:.3f}\".format(validation_accuracy))\n",
    "        print()\n",
    "        i += 1\n",
    "        if validation_accuracy >= TARGET or i + 1 >= EPOCHS:\n",
    "            break\n",
    "        \n",
    "    saver.save(sess, './lenet')\n",
    "    print(\"Model saved\")"
   ]
  },
  {
   "cell_type": "code",
   "execution_count": null,
   "metadata": {
    "collapsed": false
   },
   "outputs": [],
   "source": [
    "fig, ax = plt.subplots(figsize = (12, 12))\n",
    "ax.plot(valid_accuracies, c = 'b')\n",
    "ax.plot(train_accuracies, c = 'g')\n",
    "plt.ylim(0.8, 1.)"
   ]
  },
  {
   "cell_type": "markdown",
   "metadata": {},
   "source": [
    "---\n",
    "\n",
    "## Step 3: Test a Model on New Images\n",
    "\n",
    "To give yourself more insight into how your model is working, download at least five pictures of German traffic signs from the web and use your model to predict the traffic sign type.\n",
    "\n",
    "You may find `signnames.csv` useful as it contains mappings from the class id (integer) to the actual sign name."
   ]
  },
  {
   "cell_type": "markdown",
   "metadata": {},
   "source": [
    "### Load and Output the Images"
   ]
  },
  {
   "cell_type": "code",
   "execution_count": null,
   "metadata": {
    "collapsed": true
   },
   "outputs": [],
   "source": [
    "### Load the images and plot them here.\n",
    "### Feel free to use as many code cells as needed."
   ]
  },
  {
   "cell_type": "markdown",
   "metadata": {},
   "source": [
    "### Predict the Sign Type for Each Image"
   ]
  },
  {
   "cell_type": "code",
   "execution_count": null,
   "metadata": {
    "collapsed": true
   },
   "outputs": [],
   "source": [
    "### Run the predictions here and use the model to output the prediction for each image.\n",
    "### Make sure to pre-process the images with the same pre-processing pipeline used earlier.\n",
    "### Feel free to use as many code cells as needed."
   ]
  },
  {
   "cell_type": "markdown",
   "metadata": {},
   "source": [
    "### Analyze Performance"
   ]
  },
  {
   "cell_type": "code",
   "execution_count": null,
   "metadata": {
    "collapsed": true
   },
   "outputs": [],
   "source": [
    "### Calculate the accuracy for these 5 new images. \n",
    "### For example, if the model predicted 1 out of 5 signs correctly, it's 20% accurate on these new images."
   ]
  },
  {
   "cell_type": "markdown",
   "metadata": {},
   "source": [
    "### Output Top 5 Softmax Probabilities For Each Image Found on the Web"
   ]
  },
  {
   "cell_type": "markdown",
   "metadata": {},
   "source": [
    "For each of the new images, print out the model's softmax probabilities to show the **certainty** of the model's predictions (limit the output to the top 5 probabilities for each image). [`tf.nn.top_k`](https://www.tensorflow.org/versions/r0.12/api_docs/python/nn.html#top_k) could prove helpful here. \n",
    "\n",
    "The example below demonstrates how tf.nn.top_k can be used to find the top k predictions for each image.\n",
    "\n",
    "`tf.nn.top_k` will return the values and indices (class ids) of the top k predictions. So if k=3, for each sign, it'll return the 3 largest probabilities (out of a possible 43) and the correspoding class ids.\n",
    "\n",
    "Take this numpy array as an example. The values in the array represent predictions. The array contains softmax probabilities for five candidate images with six possible classes. `tk.nn.top_k` is used to choose the three classes with the highest probability:\n",
    "\n",
    "```\n",
    "# (5, 6) array\n",
    "a = np.array([[ 0.24879643,  0.07032244,  0.12641572,  0.34763842,  0.07893497,\n",
    "         0.12789202],\n",
    "       [ 0.28086119,  0.27569815,  0.08594638,  0.0178669 ,  0.18063401,\n",
    "         0.15899337],\n",
    "       [ 0.26076848,  0.23664738,  0.08020603,  0.07001922,  0.1134371 ,\n",
    "         0.23892179],\n",
    "       [ 0.11943333,  0.29198961,  0.02605103,  0.26234032,  0.1351348 ,\n",
    "         0.16505091],\n",
    "       [ 0.09561176,  0.34396535,  0.0643941 ,  0.16240774,  0.24206137,\n",
    "         0.09155967]])\n",
    "```\n",
    "\n",
    "Running it through `sess.run(tf.nn.top_k(tf.constant(a), k=3))` produces:\n",
    "\n",
    "```\n",
    "TopKV2(values=array([[ 0.34763842,  0.24879643,  0.12789202],\n",
    "       [ 0.28086119,  0.27569815,  0.18063401],\n",
    "       [ 0.26076848,  0.23892179,  0.23664738],\n",
    "       [ 0.29198961,  0.26234032,  0.16505091],\n",
    "       [ 0.34396535,  0.24206137,  0.16240774]]), indices=array([[3, 0, 5],\n",
    "       [0, 1, 4],\n",
    "       [0, 5, 1],\n",
    "       [1, 3, 5],\n",
    "       [1, 4, 3]], dtype=int32))\n",
    "```\n",
    "\n",
    "Looking just at the first row we get `[ 0.34763842,  0.24879643,  0.12789202]`, you can confirm these are the 3 largest probabilities in `a`. You'll also notice `[3, 0, 5]` are the corresponding indices."
   ]
  },
  {
   "cell_type": "code",
   "execution_count": null,
   "metadata": {
    "collapsed": true
   },
   "outputs": [],
   "source": [
    "### Print out the top five softmax probabilities for the predictions on the German traffic sign images found on the web. \n",
    "### Feel free to use as many code cells as needed."
   ]
  },
  {
   "cell_type": "markdown",
   "metadata": {},
   "source": [
    "> **Note**: Once you have completed all of the code implementations, you need to finalize your work by exporting the IPython Notebook as an HTML document. Before exporting the notebook to html, all of the code cells need to have been run. You can then export the notebook by using the menu above and navigating to  \\n\",\n",
    "    \"**File -> Download as -> HTML (.html)**. Include the finished document along with this notebook as your submission. "
   ]
  },
  {
   "cell_type": "markdown",
   "metadata": {},
   "source": [
    "### Project Writeup\n",
    "\n",
    "Once you have completed the code implementation, document your results in a project writeup using this [template](https://github.com/udacity/CarND-Traffic-Sign-Classifier-Project/blob/master/writeup_template.md) as a guide. The writeup can be in a markdown or pdf file. "
   ]
  }
 ],
 "metadata": {
  "anaconda-cloud": {},
  "kernelspec": {
   "display_name": "Python 3",
   "language": "python",
   "name": "python3"
  },
  "language_info": {
   "codemirror_mode": {
    "name": "ipython",
    "version": 3
   },
   "file_extension": ".py",
   "mimetype": "text/x-python",
   "name": "python",
   "nbconvert_exporter": "python",
   "pygments_lexer": "ipython3",
   "version": "3.5.2"
  },
  "widgets": {
   "state": {},
   "version": "1.1.2"
  }
 },
 "nbformat": 4,
 "nbformat_minor": 1
}
